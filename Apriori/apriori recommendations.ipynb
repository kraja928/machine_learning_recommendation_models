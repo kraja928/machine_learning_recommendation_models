{
 "cells": [
  {
   "cell_type": "code",
   "execution_count": 1,
   "metadata": {},
   "outputs": [],
   "source": [
    "# Importing the libraries\n",
    "import numpy as np\n",
    "import matplotlib.pyplot as plt\n",
    "import pandas as pd"
   ]
  },
  {
   "cell_type": "code",
   "execution_count": 2,
   "metadata": {},
   "outputs": [],
   "source": [
    "# Data Preprocessing\n",
    "dataset = pd.read_csv('C:/Users/rkocherlakota/Desktop/AI/DataSets/Market_Basket_Optimisation.csv', header = None)"
   ]
  },
  {
   "cell_type": "code",
   "execution_count": 3,
   "metadata": {},
   "outputs": [],
   "source": [
    "transactions = []\n",
    "for i in range(0, 7501):\n",
    "    transactions.append([str(dataset.values[i,j]) for j in range(0, 20)])\n"
   ]
  },
  {
   "cell_type": "code",
   "execution_count": 4,
   "metadata": {},
   "outputs": [],
   "source": [
    "# Training Apriori on the dataset\n",
    "from apyori import apriori\n",
    "rules = apriori(transactions, min_support = 0.003, min_confidence = 0.6, min_lift = 2, min_length = 2)"
   ]
  },
  {
   "cell_type": "code",
   "execution_count": 5,
   "metadata": {},
   "outputs": [],
   "source": [
    "# Visualising the results\n",
    "results = list(rules)\n"
   ]
  },
  {
   "cell_type": "code",
   "execution_count": 6,
   "metadata": {},
   "outputs": [
    {
     "name": "stdout",
     "output_type": "stream",
     "text": [
      "[RelationRecord(items=frozenset({'ground beef', 'spaghetti', 'cereals'}), support=0.0030662578322890282, ordered_statistics=[OrderedStatistic(items_base=frozenset({'ground beef', 'cereals'}), items_add=frozenset({'spaghetti'}), confidence=0.6764705882352942, lift=3.8853031258445188)]), RelationRecord(items=frozenset({'mineral water', 'frozen vegetables', 'soup'}), support=0.005065991201173177, ordered_statistics=[OrderedStatistic(items_base=frozenset({'frozen vegetables', 'soup'}), items_add=frozenset({'mineral water'}), confidence=0.6333333333333333, lift=2.6569537658463833)]), RelationRecord(items=frozenset({'mineral water', 'spaghetti', 'light cream'}), support=0.003199573390214638, ordered_statistics=[OrderedStatistic(items_base=frozenset({'spaghetti', 'light cream'}), items_add=frozenset({'mineral water'}), confidence=0.6, lift=2.5171140939597314)]), RelationRecord(items=frozenset({'mineral water', 'soup', 'pancakes'}), support=0.004266097853619517, ordered_statistics=[OrderedStatistic(items_base=frozenset({'soup', 'pancakes'}), items_add=frozenset({'mineral water'}), confidence=0.6274509803921569, lift=2.632276176689915)]), RelationRecord(items=frozenset({'olive oil', 'tomatoes', 'spaghetti'}), support=0.004399413411545127, ordered_statistics=[OrderedStatistic(items_base=frozenset({'olive oil', 'tomatoes'}), items_add=frozenset({'spaghetti'}), confidence=0.6111111111111112, lift=3.5099115194827295)]), RelationRecord(items=frozenset({'nan', 'ground beef', 'spaghetti', 'cereals'}), support=0.0030662578322890282, ordered_statistics=[OrderedStatistic(items_base=frozenset({'ground beef', 'cereals'}), items_add=frozenset({'nan', 'spaghetti'}), confidence=0.6764705882352942, lift=3.8853031258445188), OrderedStatistic(items_base=frozenset({'nan', 'ground beef', 'cereals'}), items_add=frozenset({'spaghetti'}), confidence=0.6764705882352942, lift=3.8853031258445188)]), RelationRecord(items=frozenset({'eggs', 'chocolate', 'ground beef', 'mineral water'}), support=0.003999466737768298, ordered_statistics=[OrderedStatistic(items_base=frozenset({'eggs', 'chocolate', 'ground beef'}), items_add=frozenset({'mineral water'}), confidence=0.6122448979591838, lift=2.5684837693466656)]), RelationRecord(items=frozenset({'shrimp', 'mineral water', 'chocolate', 'frozen vegetables'}), support=0.003199573390214638, ordered_statistics=[OrderedStatistic(items_base=frozenset({'shrimp', 'chocolate', 'frozen vegetables'}), items_add=frozenset({'mineral water'}), confidence=0.6, lift=2.5171140939597314)]), RelationRecord(items=frozenset({'milk', 'frozen vegetables', 'ground beef', 'mineral water'}), support=0.0037328356219170776, ordered_statistics=[OrderedStatistic(items_base=frozenset({'milk', 'frozen vegetables', 'ground beef'}), items_add=frozenset({'mineral water'}), confidence=0.6511627906976745, lift=2.731751729878779)]), RelationRecord(items=frozenset({'milk', 'frozen vegetables', 'mineral water', 'olive oil'}), support=0.003332888948140248, ordered_statistics=[OrderedStatistic(items_base=frozenset({'milk', 'frozen vegetables', 'olive oil'}), items_add=frozenset({'mineral water'}), confidence=0.6944444444444445, lift=2.9133264976385784)]), RelationRecord(items=frozenset({'milk', 'frozen vegetables', 'soup', 'mineral water'}), support=0.0030662578322890282, ordered_statistics=[OrderedStatistic(items_base=frozenset({'milk', 'frozen vegetables', 'soup'}), items_add=frozenset({'mineral water'}), confidence=0.7666666666666666, lift=3.21631245339299), OrderedStatistic(items_base=frozenset({'mineral water', 'frozen vegetables', 'soup'}), items_add=frozenset({'milk'}), confidence=0.6052631578947368, lift=4.670863114576565)]), RelationRecord(items=frozenset({'nan', 'mineral water', 'frozen vegetables', 'soup'}), support=0.005065991201173177, ordered_statistics=[OrderedStatistic(items_base=frozenset({'frozen vegetables', 'soup'}), items_add=frozenset({'nan', 'mineral water'}), confidence=0.6333333333333333, lift=2.658440589442268), OrderedStatistic(items_base=frozenset({'nan', 'frozen vegetables', 'soup'}), items_add=frozenset({'mineral water'}), confidence=0.6333333333333333, lift=2.6569537658463833)]), RelationRecord(items=frozenset({'nan', 'mineral water', 'spaghetti', 'light cream'}), support=0.003199573390214638, ordered_statistics=[OrderedStatistic(items_base=frozenset({'spaghetti', 'light cream'}), items_add=frozenset({'nan', 'mineral water'}), confidence=0.6, lift=2.5185226636821487), OrderedStatistic(items_base=frozenset({'nan', 'spaghetti', 'light cream'}), items_add=frozenset({'mineral water'}), confidence=0.6, lift=2.5171140939597314)]), RelationRecord(items=frozenset({'shrimp', 'milk', 'spaghetti', 'mineral water'}), support=0.0030662578322890282, ordered_statistics=[OrderedStatistic(items_base=frozenset({'shrimp', 'milk', 'spaghetti'}), items_add=frozenset({'mineral water'}), confidence=0.6216216216216216, lift=2.6078209081564787)]), RelationRecord(items=frozenset({'nan', 'mineral water', 'soup', 'pancakes'}), support=0.004266097853619517, ordered_statistics=[OrderedStatistic(items_base=frozenset({'soup', 'pancakes'}), items_add=frozenset({'nan', 'mineral water'}), confidence=0.6274509803921569, lift=2.6337491907787176), OrderedStatistic(items_base=frozenset({'nan', 'soup', 'pancakes'}), items_add=frozenset({'mineral water'}), confidence=0.6274509803921569, lift=2.632276176689915)]), RelationRecord(items=frozenset({'nan', 'olive oil', 'tomatoes', 'spaghetti'}), support=0.004399413411545127, ordered_statistics=[OrderedStatistic(items_base=frozenset({'olive oil', 'tomatoes'}), items_add=frozenset({'nan', 'spaghetti'}), confidence=0.6111111111111112, lift=3.5099115194827295), OrderedStatistic(items_base=frozenset({'nan', 'olive oil', 'tomatoes'}), items_add=frozenset({'spaghetti'}), confidence=0.6111111111111112, lift=3.5099115194827295)]), RelationRecord(items=frozenset({'eggs', 'mineral water', 'nan', 'chocolate', 'ground beef'}), support=0.003999466737768298, ordered_statistics=[OrderedStatistic(items_base=frozenset({'eggs', 'chocolate', 'ground beef'}), items_add=frozenset({'nan', 'mineral water'}), confidence=0.6122448979591838, lift=2.5699210853899483), OrderedStatistic(items_base=frozenset({'nan', 'eggs', 'chocolate', 'ground beef'}), items_add=frozenset({'mineral water'}), confidence=0.6122448979591838, lift=2.5684837693466656)]), RelationRecord(items=frozenset({'mineral water', 'nan', 'chocolate', 'frozen vegetables', 'shrimp'}), support=0.003199573390214638, ordered_statistics=[OrderedStatistic(items_base=frozenset({'shrimp', 'chocolate', 'frozen vegetables'}), items_add=frozenset({'nan', 'mineral water'}), confidence=0.6, lift=2.5185226636821487), OrderedStatistic(items_base=frozenset({'shrimp', 'nan', 'chocolate', 'frozen vegetables'}), items_add=frozenset({'mineral water'}), confidence=0.6, lift=2.5171140939597314)]), RelationRecord(items=frozenset({'mineral water', 'nan', 'frozen vegetables', 'ground beef', 'milk'}), support=0.0037328356219170776, ordered_statistics=[OrderedStatistic(items_base=frozenset({'milk', 'frozen vegetables', 'ground beef'}), items_add=frozenset({'nan', 'mineral water'}), confidence=0.6511627906976745, lift=2.733280410197681), OrderedStatistic(items_base=frozenset({'nan', 'milk', 'frozen vegetables', 'ground beef'}), items_add=frozenset({'mineral water'}), confidence=0.6511627906976745, lift=2.731751729878779)]), RelationRecord(items=frozenset({'mineral water', 'nan', 'frozen vegetables', 'milk', 'olive oil'}), support=0.003332888948140248, ordered_statistics=[OrderedStatistic(items_base=frozenset({'milk', 'frozen vegetables', 'olive oil'}), items_add=frozenset({'nan', 'mineral water'}), confidence=0.6944444444444445, lift=2.914956786669154), OrderedStatistic(items_base=frozenset({'nan', 'milk', 'frozen vegetables', 'olive oil'}), items_add=frozenset({'mineral water'}), confidence=0.6944444444444445, lift=2.9133264976385784)]), RelationRecord(items=frozenset({'mineral water', 'nan', 'frozen vegetables', 'soup', 'milk'}), support=0.0030662578322890282, ordered_statistics=[OrderedStatistic(items_base=frozenset({'milk', 'frozen vegetables', 'soup'}), items_add=frozenset({'nan', 'mineral water'}), confidence=0.7666666666666666, lift=3.218112292482745), OrderedStatistic(items_base=frozenset({'mineral water', 'frozen vegetables', 'soup'}), items_add=frozenset({'nan', 'milk'}), confidence=0.6052631578947368, lift=4.670863114576565), OrderedStatistic(items_base=frozenset({'nan', 'milk', 'frozen vegetables', 'soup'}), items_add=frozenset({'mineral water'}), confidence=0.7666666666666666, lift=3.21631245339299), OrderedStatistic(items_base=frozenset({'nan', 'mineral water', 'frozen vegetables', 'soup'}), items_add=frozenset({'milk'}), confidence=0.6052631578947368, lift=4.670863114576565)]), RelationRecord(items=frozenset({'mineral water', 'nan', 'spaghetti', 'shrimp', 'milk'}), support=0.0030662578322890282, ordered_statistics=[OrderedStatistic(items_base=frozenset({'shrimp', 'milk', 'spaghetti'}), items_add=frozenset({'nan', 'mineral water'}), confidence=0.6216216216216216, lift=2.609280237148172), OrderedStatistic(items_base=frozenset({'shrimp', 'nan', 'milk', 'spaghetti'}), items_add=frozenset({'mineral water'}), confidence=0.6216216216216216, lift=2.6078209081564787)])]\n"
     ]
    }
   ],
   "source": [
    "print(results)"
   ]
  },
  {
   "cell_type": "code",
   "execution_count": null,
   "metadata": {},
   "outputs": [],
   "source": []
  }
 ],
 "metadata": {
  "kernelspec": {
   "display_name": "Python 3",
   "language": "python",
   "name": "python3"
  },
  "language_info": {
   "codemirror_mode": {
    "name": "ipython",
    "version": 3
   },
   "file_extension": ".py",
   "mimetype": "text/x-python",
   "name": "python",
   "nbconvert_exporter": "python",
   "pygments_lexer": "ipython3",
   "version": "3.7.6"
  }
 },
 "nbformat": 4,
 "nbformat_minor": 4
}
